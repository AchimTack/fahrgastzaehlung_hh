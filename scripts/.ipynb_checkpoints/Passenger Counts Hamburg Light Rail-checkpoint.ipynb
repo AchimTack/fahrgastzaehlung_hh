{
 "cells": [
  {
   "cell_type": "markdown",
   "metadata": {},
   "source": [
    "# Passenger Counts Hamburg Light Rail"
   ]
  },
  {
   "cell_type": "markdown",
   "metadata": {},
   "source": [
    "Analyse der Open Data Fahrgastzählungsdaten der Hamburger S-Bahn.\n",
    "Datenquelle: http://download-data.deutschebahn.com/static/datasets/personenzahlen/Passagierzahlen.zip \n",
    "\n",
    "Work in Progress..."
   ]
  },
  {
   "cell_type": "markdown",
   "metadata": {
    "toc": true
   },
   "source": [
    "<h1>Table of Contents<span class=\"tocSkip\"></span></h1>\n",
    "<div class=\"toc\" style=\"margin-top: 1em;\"><ul class=\"toc-item\"><li><span><a href=\"#imports-&amp;-Variables\" data-toc-modified-id=\"imports-&amp;-Variables-1\"><span class=\"toc-item-num\">1&nbsp;&nbsp;</span>imports &amp; Variables</a></span></li><li><span><a href=\"#Data-Prep\" data-toc-modified-id=\"Data-Prep-2\"><span class=\"toc-item-num\">2&nbsp;&nbsp;</span>Data Prep</a></span></li><li><span><a href=\"#Exploratory-Analysis\" data-toc-modified-id=\"Exploratory-Analysis-3\"><span class=\"toc-item-num\">3&nbsp;&nbsp;</span>Exploratory Analysis</a></span></li><li><span><a href=\"#Predictive-Analysis\" data-toc-modified-id=\"Predictive-Analysis-4\"><span class=\"toc-item-num\">4&nbsp;&nbsp;</span>Predictive Analysis</a></span></li></ul></div>"
   ]
  },
  {
   "cell_type": "markdown",
   "metadata": {
    "heading_collapsed": true
   },
   "source": [
    "## imports & Variables"
   ]
  },
  {
   "cell_type": "code",
   "execution_count": 49,
   "metadata": {
    "hidden": true
   },
   "outputs": [],
   "source": [
    "import urllib\n",
    "import zipfile\n",
    "import os\n",
    "import shutil\n",
    "from datetime import datetime\n",
    "\n",
    "import pandas as pd\n",
    "import pandas_profiling\n",
    "\n",
    "import matplotlib.pyplot as plt\n",
    "%matplotlib inline\n",
    "import seaborn as sns\n",
    "sns.set(rc={'figure.figsize':(11.7,8.27)})"
   ]
  },
  {
   "cell_type": "code",
   "execution_count": 4,
   "metadata": {
    "hidden": true
   },
   "outputs": [],
   "source": [
    "folder_data = '../data'\n",
    "folder_figures = '../figures'\n",
    "\n",
    "file_download = 'Passagierzahlen.zip'"
   ]
  },
  {
   "cell_type": "markdown",
   "metadata": {
    "heading_collapsed": true
   },
   "source": [
    "## Data Prep"
   ]
  },
  {
   "cell_type": "code",
   "execution_count": 11,
   "metadata": {
    "hidden": true
   },
   "outputs": [],
   "source": [
    "url = 'http://download-data.deutschebahn.com/static/datasets/personenzahlen/Passagierzahlen.zip'\n",
    "\n",
    "download_path = os.path.join(folder_data,'raw',file_download)\n",
    "\n",
    "if os.path.isfile(download_path) == False:\n",
    "    print 'downloading file'\n",
    "    urllib.urlretrieve(url,download_path)"
   ]
  },
  {
   "cell_type": "code",
   "execution_count": 14,
   "metadata": {
    "hidden": true
   },
   "outputs": [],
   "source": [
    "zip_ref = zipfile.ZipFile(download_path) \n",
    "zip_ref.extractall(os.path.join(folder_data,'working') \n",
    "zip_ref.close()"
   ]
  },
  {
   "cell_type": "code",
   "execution_count": 62,
   "metadata": {
    "hidden": true
   },
   "outputs": [],
   "source": [
    "file_csv = os.path.join(folder_data,'working','Hackathon.csv')\n",
    "column_names = ['train_id','station','pass_in','pass_out','timestamp_arr','timestamp_dep','station_id','line_id']\n",
    "dtypes = [float, object, float, float, datetime, datetime, str, str] \n",
    "\n",
    "df = pd.read_csv(file_csv, sep=';', decimal=\",\", encoding='ISO-8859-1', names=column_names, skiprows=1)"
   ]
  },
  {
   "cell_type": "code",
   "execution_count": 73,
   "metadata": {
    "hidden": true
   },
   "outputs": [],
   "source": [
    "df['timestamp_arr'] =  pd.to_datetime(df['timestamp_arr'], format='%d.%m.%Y %H:%M:%S')\n",
    "df['timestamp_dep'] =  pd.to_datetime(df['timestamp_dep'], format='%d.%m.%Y %H:%M:%S')"
   ]
  },
  {
   "cell_type": "markdown",
   "metadata": {
    "heading_collapsed": true
   },
   "source": [
    "## Exploratory Analysis"
   ]
  },
  {
   "cell_type": "code",
   "execution_count": 78,
   "metadata": {
    "hidden": true
   },
   "outputs": [
    {
     "data": {
      "text/html": [
       "<div>\n",
       "<style>\n",
       "    .dataframe thead tr:only-child th {\n",
       "        text-align: right;\n",
       "    }\n",
       "\n",
       "    .dataframe thead th {\n",
       "        text-align: left;\n",
       "    }\n",
       "\n",
       "    .dataframe tbody tr th {\n",
       "        vertical-align: top;\n",
       "    }\n",
       "</style>\n",
       "<table border=\"1\" class=\"dataframe\">\n",
       "  <thead>\n",
       "    <tr style=\"text-align: right;\">\n",
       "      <th></th>\n",
       "      <th>train_id</th>\n",
       "      <th>station</th>\n",
       "      <th>pass_in</th>\n",
       "      <th>pass_out</th>\n",
       "      <th>timestamp_arr</th>\n",
       "      <th>timestamp_dep</th>\n",
       "      <th>station_id</th>\n",
       "      <th>line_id</th>\n",
       "    </tr>\n",
       "  </thead>\n",
       "  <tbody>\n",
       "    <tr>\n",
       "      <th>0</th>\n",
       "      <td>248206</td>\n",
       "      <td>Aumühle</td>\n",
       "      <td>0.0</td>\n",
       "      <td>0.0</td>\n",
       "      <td>2016-12-10 09:27:26</td>\n",
       "      <td>2016-12-10 09:28:49</td>\n",
       "      <td>AH</td>\n",
       "      <td>S21</td>\n",
       "    </tr>\n",
       "    <tr>\n",
       "      <th>1</th>\n",
       "      <td>248206</td>\n",
       "      <td>Wohltorf</td>\n",
       "      <td>5.0</td>\n",
       "      <td>0.0</td>\n",
       "      <td>2016-12-10 09:31:36</td>\n",
       "      <td>2016-12-10 09:31:55</td>\n",
       "      <td>WLF</td>\n",
       "      <td>S21</td>\n",
       "    </tr>\n",
       "    <tr>\n",
       "      <th>2</th>\n",
       "      <td>248206</td>\n",
       "      <td>Reinbek</td>\n",
       "      <td>9.0</td>\n",
       "      <td>0.0</td>\n",
       "      <td>2016-12-10 09:34:09</td>\n",
       "      <td>2016-12-10 09:34:32</td>\n",
       "      <td>RBK</td>\n",
       "      <td>S21</td>\n",
       "    </tr>\n",
       "    <tr>\n",
       "      <th>3</th>\n",
       "      <td>248206</td>\n",
       "      <td>Bergedorf</td>\n",
       "      <td>43.0</td>\n",
       "      <td>5.0</td>\n",
       "      <td>2016-12-10 09:38:01</td>\n",
       "      <td>2016-12-10 09:38:32</td>\n",
       "      <td>BGS</td>\n",
       "      <td>S21</td>\n",
       "    </tr>\n",
       "    <tr>\n",
       "      <th>4</th>\n",
       "      <td>248206</td>\n",
       "      <td>Nettelnburg</td>\n",
       "      <td>10.0</td>\n",
       "      <td>7.0</td>\n",
       "      <td>2016-12-10 09:40:32</td>\n",
       "      <td>2016-12-10 09:40:57</td>\n",
       "      <td>NTB</td>\n",
       "      <td>S21</td>\n",
       "    </tr>\n",
       "  </tbody>\n",
       "</table>\n",
       "</div>"
      ],
      "text/plain": [
       "  train_id      station  pass_in  pass_out       timestamp_arr  \\\n",
       "0   248206      Aumühle      0.0       0.0 2016-12-10 09:27:26   \n",
       "1   248206     Wohltorf      5.0       0.0 2016-12-10 09:31:36   \n",
       "2   248206      Reinbek      9.0       0.0 2016-12-10 09:34:09   \n",
       "3   248206    Bergedorf     43.0       5.0 2016-12-10 09:38:01   \n",
       "4   248206  Nettelnburg     10.0       7.0 2016-12-10 09:40:32   \n",
       "\n",
       "        timestamp_dep station_id line_id  \n",
       "0 2016-12-10 09:28:49         AH     S21  \n",
       "1 2016-12-10 09:31:55        WLF     S21  \n",
       "2 2016-12-10 09:34:32        RBK     S21  \n",
       "3 2016-12-10 09:38:32        BGS     S21  \n",
       "4 2016-12-10 09:40:57        NTB     S21  "
      ]
     },
     "execution_count": 78,
     "metadata": {},
     "output_type": "execute_result"
    }
   ],
   "source": [
    "df.head()"
   ]
  },
  {
   "cell_type": "code",
   "execution_count": 75,
   "metadata": {
    "hidden": true
   },
   "outputs": [
    {
     "data": {
      "text/plain": [
       "train_id                 object\n",
       "station                  object\n",
       "pass_in                 float64\n",
       "pass_out                float64\n",
       "timestamp_arr    datetime64[ns]\n",
       "timestamp_dep    datetime64[ns]\n",
       "station_id               object\n",
       "line_id                  object\n",
       "dtype: object"
      ]
     },
     "execution_count": 75,
     "metadata": {},
     "output_type": "execute_result"
    }
   ],
   "source": [
    "df.dtypes"
   ]
  },
  {
   "cell_type": "code",
   "execution_count": 76,
   "metadata": {
    "hidden": true
   },
   "outputs": [],
   "source": [
    "profile = pandas_profiling.ProfileReport(df) \n",
    "profile.to_file(outputfile=os.path.join(folder_figures,'data_overview.html'))"
   ]
  },
  {
   "cell_type": "markdown",
   "metadata": {
    "hidden": true
   },
   "source": [
    "Data overview report available under [../figures/data_overview.html](../figures/data_overview.html)"
   ]
  },
  {
   "cell_type": "markdown",
   "metadata": {},
   "source": [
    "## Predictive Analysis"
   ]
  },
  {
   "cell_type": "code",
   "execution_count": null,
   "metadata": {},
   "outputs": [],
   "source": []
  }
 ],
 "metadata": {
  "hide_input": false,
  "kernelspec": {
   "display_name": "Python 2",
   "language": "python",
   "name": "python2"
  },
  "language_info": {
   "codemirror_mode": {
    "name": "ipython",
    "version": 2
   },
   "file_extension": ".py",
   "mimetype": "text/x-python",
   "name": "python",
   "nbconvert_exporter": "python",
   "pygments_lexer": "ipython2",
   "version": "2.7.14"
  },
  "toc": {
   "nav_menu": {},
   "number_sections": true,
   "sideBar": true,
   "skip_h1_title": true,
   "toc_cell": true,
   "toc_position": {
    "height": "623px",
    "left": "0px",
    "right": "1324px",
    "top": "111px",
    "width": "212px"
   },
   "toc_section_display": "block",
   "toc_window_display": true
  }
 },
 "nbformat": 4,
 "nbformat_minor": 2
}
